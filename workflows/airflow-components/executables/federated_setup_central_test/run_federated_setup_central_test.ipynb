{
 "cells": [
  {
   "cell_type": "code",
   "execution_count": 7,
   "metadata": {},
   "outputs": [],
   "source": [
    "# %load_ext autoreload\n",
    "# %autoreload 2\n",
    "import os\n",
    "import sys\n",
    "import uuid\n",
    "from pathlib import Path\n",
    "sys.path.insert(0, '../')\n",
    "sys.path.insert(0, '/executables')\n",
    "from kaapana_federated.kaapana_federated import KaapanaFederatedTrainingBase, requests_retry_session"
   ]
  },
  {
   "cell_type": "code",
   "execution_count": 8,
   "metadata": {
    "tags": []
   },
   "outputs": [],
   "source": [
    "class FederatedSetupTestFederatedTraining(KaapanaFederatedTrainingBase):\n",
    "    \n",
    "    def __init__(self, run_id=None, workflow_dir=None, federated_operators=None, skip_operators=None):\n",
    "        dag_id = 'federated-setup-node-test'\n",
    "        run_id = run_id or os.getenv(\"RUN_ID\", dag_id + str(uuid.uuid4()))\n",
    "        workflow_dir = workflow_dir or os.getenv('WORKFLOW_DIR', f'/appdata/dev/federated-local-workspace/{run_id}')\n",
    "        federated_operators = federated_operators or ['federated-setup-node-test']\n",
    "        skip_operators = skip_operators or [\"federated-setup-skip-test\"]\n",
    "        conf_data = KaapanaFederatedTrainingBase.get_conf(dag_id, run_id, workflow_dir, federated_operators, skip_operators)\n",
    "\n",
    "        super().__init__(dag_id, conf_data, workflow_dir)\n",
    "            \n",
    "    def update_data(self, tmp_federated_site_info, federated_round):\n",
    "        print(Path(os.path.join(self.fl_working_dir, str(federated_round))))\n",
    "        print(federated_round)\n",
    "\n",
    "kaapana_ft = FederatedSetupTestFederatedTraining()\n",
    "kaapana_ft.train()"
   ]
  },
  {
   "cell_type": "code",
   "execution_count": null,
   "metadata": {},
   "outputs": [],
   "source": []
  }
 ],
 "metadata": {
  "kernelspec": {
   "display_name": "Python 3",
   "language": "python",
   "name": "python3"
  },
  "language_info": {
   "codemirror_mode": {
    "name": "ipython",
    "version": 3
   },
   "file_extension": ".py",
   "mimetype": "text/x-python",
   "name": "python",
   "nbconvert_exporter": "python",
   "pygments_lexer": "ipython3",
   "version": "3.6.10"
  }
 },
 "nbformat": 4,
 "nbformat_minor": 4
}

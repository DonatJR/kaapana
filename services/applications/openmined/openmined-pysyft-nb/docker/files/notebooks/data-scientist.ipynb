{
 "cells": [
  {
   "source": [
    "### Data Scientist\n",
    "\n",
    "Github: https://blog.openmined.org/duet-opengrid-infrastructure-for-easy-remote-data-science/"
   ],
   "cell_type": "markdown",
   "metadata": {}
  },
  {
   "cell_type": "code",
   "execution_count": null,
   "metadata": {},
   "outputs": [],
   "source": [
    "# General dependencies\n",
    "import syft as sy"
   ]
  },
  {
   "source": [
    "# Fill in id given by data owner\n",
    "ip = \"\"\n",
    "duet = sy.join_duet(\"fa13b63194f33eef0100d3f4f41e543a\", network_url=f\"http://{ip}:5000/\")"
   ],
   "cell_type": "code",
   "metadata": {},
   "execution_count": null,
   "outputs": []
  },
  {
   "source": [
    "# Check storage for data\n",
    "duet.store.pandas"
   ],
   "cell_type": "code",
   "metadata": {},
   "execution_count": null,
   "outputs": []
  },
  {
   "cell_type": "code",
   "execution_count": null,
   "metadata": {},
   "outputs": [],
   "source": [
    "# get references\n",
    "data_ptr = duet.store[0]\n",
    "target_ptr = duet.store[1]\n",
    "\n",
    "print(data_ptr)"
   ]
  },
  {
   "cell_type": "code",
   "execution_count": null,
   "metadata": {},
   "outputs": [],
   "source": [
    "# make a calculation\n",
    "sum_ptr = data_ptr.sum().item()\n",
    "sum = sum_ptr.get(\n",
    "    request_block=True,\n",
    "    name=\"sum\",\n",
    "    reason=\"To see the result\",\n",
    "    timeout_secs=30,\n",
    ")\n",
    "print(sum)    # <---- waiting for the above line to complete first"
   ]
  },
  {
   "cell_type": "code",
   "execution_count": null,
   "metadata": {},
   "outputs": [],
   "source": []
  }
 ],
 "metadata": {
  "kernelspec": {
   "name": "python3",
   "display_name": "Python 3"
  },
  "language_info": {
   "codemirror_mode": {
    "name": "ipython",
    "version": 3
   },
   "file_extension": ".py",
   "mimetype": "text/x-python",
   "name": "python",
   "nbconvert_exporter": "python",
   "pygments_lexer": "ipython3",
   "version": "3.8.5-final"
  }
 },
 "nbformat": 4,
 "nbformat_minor": 4
}